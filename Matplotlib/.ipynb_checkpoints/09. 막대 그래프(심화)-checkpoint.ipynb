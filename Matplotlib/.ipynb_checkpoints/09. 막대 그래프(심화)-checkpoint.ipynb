{
 "cells": [
  {
   "cell_type": "markdown",
   "id": "90deeb3b",
   "metadata": {},
   "source": [
    "# 9. 막대 그래프(심화)"
   ]
  },
  {
   "cell_type": "code",
   "execution_count": 1,
   "id": "aa6d7e89",
   "metadata": {},
   "outputs": [],
   "source": [
    "import matplotlib.pyplot as plt\n",
    "import matplotlib\n",
    "matplotlib.rcParams['font.family'] = 'Malgun Gothic'\n",
    "matplotlib.rcParams['font.size'] = 15\n",
    "matplotlib.rcParams['axes.unicode_minus'] = False"
   ]
  },
  {
   "cell_type": "code",
   "execution_count": null,
   "id": "a588fced",
   "metadata": {},
   "outputs": [],
   "source": [
    "labels=['강백호','서태웅','정대만']\n",
    "values=[190,187,184]\n",
    "\n",
    "plt.bar(labels,values,color=colors, alpha=0.5)"
   ]
  }
 ],
 "metadata": {
  "kernelspec": {
   "display_name": "Python 3 (ipykernel)",
   "language": "python",
   "name": "python3"
  },
  "language_info": {
   "codemirror_mode": {
    "name": "ipython",
    "version": 3
   },
   "file_extension": ".py",
   "mimetype": "text/x-python",
   "name": "python",
   "nbconvert_exporter": "python",
   "pygments_lexer": "ipython3",
   "version": "3.9.7"
  }
 },
 "nbformat": 4,
 "nbformat_minor": 5
}
